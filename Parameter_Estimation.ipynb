{
 "cells": [
  {
   "cell_type": "code",
   "execution_count": 1,
   "id": "d7544a59",
   "metadata": {},
   "outputs": [],
   "source": [
    "import pandas as pd\n",
    "import numpy as np\n",
    "import statsmodels.api as sm\n",
    "from fredapi import Fred\n",
    "import random\n",
    "\n",
    "random.seed(42)\n",
    "\n",
    "#Load FRED data\n",
    "f = open(\"fred_key.txt\")\n",
    "fred = Fred(api_key=f.read())\n",
    "\n",
    "# Inflation (CPI YoY %), Output gap (CBO estimate), Unemployment rate\n",
    "cpi = fred.get_series('CPIAUCSL').pct_change(12).dropna() * 100         # annual inflation %\n",
    "gdp = fred.get_series('GDPC1')                                          # real GDP\n",
    "potential_gdp = fred.get_series('GDPPOT')\n",
    "output_gap = 100 * (gdp - potential_gdp) / potential_gdp\n",
    "\n",
    "unemployment = fred.get_series('UNRATE')\n",
    "\n",
    "# Align into one DataFrame\n",
    "df = pd.concat([cpi, output_gap, unemployment], axis=1)\n",
    "df.columns = ['inflation', 'output_gap', 'unemployment']\n",
    "df = df.dropna()"
   ]
  },
  {
   "cell_type": "code",
   "execution_count": 2,
   "id": "34dfc0a1",
   "metadata": {},
   "outputs": [
    {
     "name": "stdout",
     "output_type": "stream",
     "text": [
      "                            OLS Regression Results                            \n",
      "==============================================================================\n",
      "Dep. Variable:              inflation   R-squared:                       0.901\n",
      "Model:                            OLS   Adj. R-squared:                  0.901\n",
      "Method:                 Least Squares   F-statistic:                     1379.\n",
      "Date:                Tue, 19 Aug 2025   Prob (F-statistic):          1.40e-152\n",
      "Time:                        21:55:55   Log-Likelihood:                -399.97\n",
      "No. Observations:                 305   AIC:                             805.9\n",
      "Df Residuals:                     302   BIC:                             817.1\n",
      "Df Model:                           2                                         \n",
      "Covariance Type:            nonrobust                                         \n",
      "==================================================================================\n",
      "                     coef    std err          t      P>|t|      [0.025      0.975]\n",
      "----------------------------------------------------------------------------------\n",
      "const              0.1433      0.082      1.748      0.081      -0.018       0.305\n",
      "inflation_lead     0.9534      0.018     52.503      0.000       0.918       0.989\n",
      "output_gap        -0.0822      0.023     -3.596      0.000      -0.127      -0.037\n",
      "==============================================================================\n",
      "Omnibus:                       27.360   Durbin-Watson:                   1.516\n",
      "Prob(Omnibus):                  0.000   Jarque-Bera (JB):              120.431\n",
      "Skew:                           0.038   Prob(JB):                     7.06e-27\n",
      "Kurtosis:                       6.077   Cond. No.                         7.35\n",
      "==============================================================================\n",
      "\n",
      "Notes:\n",
      "[1] Standard Errors assume that the covariance matrix of the errors is correctly specified.\n"
     ]
    }
   ],
   "source": [
    "# Estimate Phillips Curve gamma\n",
    "\n",
    "df['inflation_lead'] = df['inflation'].shift(-1)\n",
    "df = df.dropna()\n",
    "\n",
    "X = sm.add_constant(df[['inflation_lead', 'output_gap']])\n",
    "y = df['inflation']\n",
    "phillips_model = sm.OLS(y, X).fit()\n",
    "print(phillips_model.summary())"
   ]
  },
  {
   "cell_type": "code",
   "execution_count": 3,
   "id": "9edc9c2d",
   "metadata": {},
   "outputs": [
    {
     "name": "stdout",
     "output_type": "stream",
     "text": [
      "gamma =  -0.0822\n",
      "expected inflation =  0.9534\n"
     ]
    }
   ],
   "source": [
    "gamma = phillips_model.params['output_gap']\n",
    "beta_inflation = phillips_model.params['inflation_lead']\n",
    "print(\"gamma = \", np.round(gamma,4))\n",
    "print(\"expected inflation = \", np.round(beta_inflation,4))"
   ]
  },
  {
   "cell_type": "code",
   "execution_count": 4,
   "id": "abee9eb9",
   "metadata": {},
   "outputs": [
    {
     "name": "stdout",
     "output_type": "stream",
     "text": [
      "                            OLS Regression Results                            \n",
      "==============================================================================\n",
      "Dep. Variable:             output_gap   R-squared:                       0.805\n",
      "Model:                            OLS   Adj. R-squared:                  0.802\n",
      "Method:                 Least Squares   F-statistic:                     381.4\n",
      "Date:                Tue, 19 Aug 2025   Prob (F-statistic):           3.45e-98\n",
      "Time:                        21:55:55   Log-Likelihood:                -395.53\n",
      "No. Observations:                 282   AIC:                             799.1\n",
      "Df Residuals:                     278   BIC:                             813.6\n",
      "Df Model:                           3                                         \n",
      "Covariance Type:            nonrobust                                         \n",
      "===================================================================================\n",
      "                      coef    std err          t      P>|t|      [0.025      0.975]\n",
      "-----------------------------------------------------------------------------------\n",
      "const              -0.3321      0.101     -3.279      0.001      -0.532      -0.133\n",
      "output_gap_lead     0.8914      0.027     33.562      0.000       0.839       0.944\n",
      "rate                0.0463      0.023      2.029      0.043       0.001       0.091\n",
      "inflation_lead      0.0216      0.030      0.730      0.466      -0.037       0.080\n",
      "==============================================================================\n",
      "Omnibus:                       98.833   Durbin-Watson:                   1.854\n",
      "Prob(Omnibus):                  0.000   Jarque-Bera (JB):             3985.680\n",
      "Skew:                           0.597   Prob(JB):                         0.00\n",
      "Kurtosis:                      21.379   Cond. No.                         12.6\n",
      "==============================================================================\n",
      "\n",
      "Notes:\n",
      "[1] Standard Errors assume that the covariance matrix of the errors is correctly specified.\n"
     ]
    }
   ],
   "source": [
    "# Estimate IS Curve\n",
    "\n",
    "rate = fred.get_series('FEDFUNDS')\n",
    "df['rate'] = rate\n",
    "df['output_gap_lead'] = df['output_gap'].shift(-1)\n",
    "df['inflation_lead'] = df['inflation'].shift(-1)\n",
    "df = df.dropna()\n",
    "\n",
    "X_is = sm.add_constant(df[['output_gap_lead', 'rate', 'inflation_lead']])\n",
    "y_is = df['output_gap']\n",
    "is_model = sm.OLS(y_is, X_is).fit()\n",
    "print(is_model.summary())"
   ]
  },
  {
   "cell_type": "code",
   "execution_count": 5,
   "id": "b5090f37",
   "metadata": {},
   "outputs": [
    {
     "name": "stdout",
     "output_type": "stream",
     "text": [
      "Interest Rate:  0.0463\n",
      "Expected Output Gap:  0.8914\n",
      "Expected Inflation:  0.0216\n"
     ]
    }
   ],
   "source": [
    "rate = is_model.params['rate']\n",
    "output_gap_lead = is_model.params['output_gap_lead']\n",
    "inflation_lead = is_model.params['inflation_lead']\n",
    "print(\"Interest Rate: \", round(rate,4))\n",
    "print(\"Expected Output Gap: \", round(output_gap_lead,4))\n",
    "print(\"Expected Inflation: \", round(inflation_lead,4))"
   ]
  },
  {
   "cell_type": "code",
   "execution_count": 6,
   "id": "99a37c6e",
   "metadata": {},
   "outputs": [
    {
     "name": "stdout",
     "output_type": "stream",
     "text": [
      "                            OLS Regression Results                            \n",
      "==============================================================================\n",
      "Dep. Variable:                  shock   R-squared:                       0.022\n",
      "Model:                            OLS   Adj. R-squared:                  0.019\n",
      "Method:                 Least Squares   F-statistic:                     6.285\n",
      "Date:                Tue, 19 Aug 2025   Prob (F-statistic):             0.0127\n",
      "Time:                        21:55:55   Log-Likelihood:                -332.10\n",
      "No. Observations:                 281   AIC:                             668.2\n",
      "Df Residuals:                     279   BIC:                             675.5\n",
      "Df Model:                           1                                         \n",
      "Covariance Type:            nonrobust                                         \n",
      "==============================================================================\n",
      "                 coef    std err          t      P>|t|      [0.025      0.975]\n",
      "------------------------------------------------------------------------------\n",
      "const         -0.0120      0.047     -0.254      0.800      -0.105       0.081\n",
      "shock_lag      0.1482      0.059      2.507      0.013       0.032       0.265\n",
      "==============================================================================\n",
      "Omnibus:                       21.698   Durbin-Watson:                   2.016\n",
      "Prob(Omnibus):                  0.000   Jarque-Bera (JB):               74.877\n",
      "Skew:                           0.120   Prob(JB):                     5.50e-17\n",
      "Kurtosis:                       5.518   Cond. No.                         1.25\n",
      "==============================================================================\n",
      "\n",
      "Notes:\n",
      "[1] Standard Errors assume that the covariance matrix of the errors is correctly specified.\n"
     ]
    }
   ],
   "source": [
    "# Estimate Shock Process\n",
    "residuals = phillips_model.resid\n",
    "df['shock'] = residuals\n",
    "df['shock_lag'] = df['shock'].shift(1)\n",
    "df = df.dropna()\n",
    "\n",
    "shock_model = sm.OLS(df['shock'], sm.add_constant(df['shock_lag'])).fit()\n",
    "print(shock_model.summary())"
   ]
  },
  {
   "cell_type": "code",
   "execution_count": 7,
   "id": "31589207",
   "metadata": {},
   "outputs": [
    {
     "name": "stdout",
     "output_type": "stream",
     "text": [
      "Shock Standard Deviation:  0.7903\n"
     ]
    }
   ],
   "source": [
    "rho_u = shock_model.params['shock_lag']\n",
    "shock_std = shock_model.resid.std()\n",
    "print(\"Shock Standard Deviation: \",round(shock_std,4))"
   ]
  }
 ],
 "metadata": {
  "kernelspec": {
   "display_name": "Python 3",
   "language": "python",
   "name": "python3"
  },
  "language_info": {
   "codemirror_mode": {
    "name": "ipython",
    "version": 3
   },
   "file_extension": ".py",
   "mimetype": "text/x-python",
   "name": "python",
   "nbconvert_exporter": "python",
   "pygments_lexer": "ipython3",
   "version": "3.11.9"
  }
 },
 "nbformat": 4,
 "nbformat_minor": 5
}
